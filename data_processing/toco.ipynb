{
 "cells": [
  {
   "cell_type": "code",
   "execution_count": null,
   "metadata": {},
   "outputs": [],
   "source": [
    "import numpy as np\n",
    "import tensorflow as tf\n",
    "from tensorflow.python.saved_model import loader\n",
    "import os\n",
    "\n",
    "tf.__version__\n",
    "import tempfile\n",
    "import subprocess\n",
    "tf.contrib.lite.tempfile = tempfile\n",
    "tf.contrib.lite.subprocess = subprocess"
   ]
  },
  {
   "cell_type": "code",
   "execution_count": null,
   "metadata": {},
   "outputs": [],
   "source": [
    "saved_model_dir = 'saved_models/no_maxpool_10-5--10-5_120_1_0.01_0.95/1519994594'\n",
    "loaded_graph = tf.Graph()\n",
    "with tf.Session(graph=loaded_graph) as sess:\n",
    "    with loaded_graph.as_default():\n",
    "        loader.load(sess, ['serve'], saved_model_dir)\n",
    "#         print(loaded_graph.get_operations())\n",
    "        frozen_graph_def = tf.graph_util.convert_variables_to_constants(sess,\n",
    "                                                                        loaded_graph.as_graph_def(),\n",
    "                                                                        [\"softmax_tensor\"])\n",
    "#     frozen_graph = tf.Graph()\n",
    "#     with frozen_graph.as_default():\n",
    "        tf.import_graph_def(frozen_graph_def)\n",
    "#         print(loaded_graph.get_operations())\n",
    "        graph_input = loaded_graph.get_operation_by_name('accelerometer_input')\n",
    "        graph_output = loaded_graph.get_operation_by_name('softmax_tensor')\n",
    "        input_tensor = graph_input.values()[0]\n",
    "        input_shape = list(input_tensor.get_shape())\n",
    "        print(input_shape)\n",
    "        input_shape[0] = 1\n",
    "        input_tensor.set_shape(input_shape)\n",
    "        tflite_model = tf.contrib.lite.toco_convert(frozen_graph_def, graph_input.values(), [graph_output])"
   ]
  },
  {
   "cell_type": "code",
   "execution_count": null,
   "metadata": {},
   "outputs": [],
   "source": [
    "saved_model_dir_head, _ = os.path.split(saved_model_dir)\n",
    "_, name = os.path.split(saved_model_dir_head)\n",
    "with open(os.path.join(saved_model_dir, '{}.tflite'.format(name)), 'wb') as f:\n",
    "    f.write(tflite_model)"
   ]
  },
  {
   "cell_type": "code",
   "execution_count": null,
   "metadata": {},
   "outputs": [],
   "source": []
  },
  {
   "cell_type": "code",
   "execution_count": null,
   "metadata": {},
   "outputs": [],
   "source": [
    "with tf.Session() as sess:\n",
    "    tf.global_variables_initializer()\n",
    "    tf.import_graph_def(frozen_graph_def)\n",
    "    graph_input = sess.graph.get_operation_by_name('accelerometer_input')\n",
    "    input_tensor = graph_input.values()[0]\n",
    "    graph_output = sess.graph.get_operation_by_name('softmax_tensor')\n",
    "    \n",
    "    rand_data = np.random.rand(1, 120, 3)\n",
    "    result = sess.run(graph_output, feed_dict={input_tensor: rand_data})\n",
    "    print(result)"
   ]
  },
  {
   "cell_type": "code",
   "execution_count": null,
   "metadata": {},
   "outputs": [],
   "source": []
  }
 ],
 "metadata": {
  "kernelspec": {
   "display_name": "tfnightly",
   "language": "python",
   "name": "tfnightly"
  },
  "language_info": {
   "codemirror_mode": {
    "name": "ipython",
    "version": 3
   },
   "file_extension": ".py",
   "mimetype": "text/x-python",
   "name": "python",
   "nbconvert_exporter": "python",
   "pygments_lexer": "ipython3",
   "version": "3.6.3"
  }
 },
 "nbformat": 4,
 "nbformat_minor": 2
}
