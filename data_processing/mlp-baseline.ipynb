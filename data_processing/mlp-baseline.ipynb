{
 "cells": [
  {
   "cell_type": "code",
   "execution_count": null,
   "metadata": {},
   "outputs": [],
   "source": [
    "import os\n",
    "import pandas as pd\n",
    "import numpy as np\n",
    "import tensorflow as tf\n",
    "import utils\n",
    "\n",
    "import data_mappers\n",
    "import nn_models\n",
    "tf.logging.set_verbosity(tf.logging.INFO)\n",
    "tf.__version__"
   ]
  },
  {
   "cell_type": "code",
   "execution_count": null,
   "metadata": {},
   "outputs": [],
   "source": [
    "import importlib\n",
    "importlib.reload(data_mappers)\n",
    "importlib.reload(nn_models)\n",
    "importlib.reload(utils)\n",
    "\n",
    "from nn_models import build_mlp_model_fn\n",
    "from data_mappers import Window_Creator"
   ]
  },
  {
   "cell_type": "code",
   "execution_count": null,
   "metadata": {},
   "outputs": [],
   "source": [
    "# Load recordings\n",
    "recs = sorted(utils.enumerate_recording_paths('../dataset/raw/*record*'))\n",
    "recs += sorted(utils.enumerate_recording_paths('../dataset/raw/benni*/*record*'))\n",
    "# Create feeder\n",
    "print(f'Number of recordings: {len(recs)}')\n",
    "feeder = Window_Creator(rec_paths=recs, window_size=120, subsample=1)\n"
   ]
  },
  {
   "cell_type": "code",
   "execution_count": null,
   "metadata": {},
   "outputs": [],
   "source": [
    "# Create model\n",
    "# Set up logging for predictions\n",
    "tensors_to_log = {\"probabilities\": \"softmax_tensor\"}\n",
    "logging_hook = tf.train.LoggingTensorHook(tensors=tensors_to_log, every_n_iter=10000)\n",
    "\n",
    "# Specify number of layers\n",
    "dense_layers = (20, 20)\n",
    "# Specify learning rate\n",
    "learning_rate=0.01\n",
    "# Specify the decay rate\n",
    "rho=0.95\n",
    "\n",
    "layer_conf = '-'.join((str(u) for u in dense_layers))\n",
    "# Directory to save the model\n",
    "model_dir = \"../mlp_model_nodrop_{}_{}_{}_{}_{}\".format(layer_conf, feeder.window_size,\n",
    "                                                   feeder.subsample, learning_rate, rho)\n",
    "model_fn = build_mlp_model_fn(dense_layers, learning_rate, rho)\n",
    "# Build the model\n",
    "mlp_classifier = tf.estimator.Estimator(model_fn=model_fn, model_dir=model_dir)"
   ]
  },
  {
   "cell_type": "code",
   "execution_count": null,
   "metadata": {},
   "outputs": [],
   "source": [
    "# Train the model specifing training steps the input and mode\n",
    "mlp_classifier.train(input_fn=feeder.window_input_fn(mode='training'), steps=300000)"
   ]
  },
  {
   "cell_type": "code",
   "execution_count": null,
   "metadata": {},
   "outputs": [],
   "source": [
    "# Call the evaluation functionality specifing input, mode and steps\n",
    "eval_results = mlp_classifier.evaluate(input_fn=feeder.window_input_fn(mode='testing'), steps=10000)\n",
    "print('MLP {}, lr={}, rho={}: {}'.format(dense_layers, learning_rate, rho, eval_results))"
   ]
  },
  {
   "cell_type": "code",
   "execution_count": null,
   "metadata": {},
   "outputs": [],
   "source": [
    "# Print some results\n",
    "fp_rate = eval_results['false_pos']/(eval_results['true_neg']+eval_results['false_pos'])\n",
    "print('fp rate in percent {}'.format(fp_rate*100))\n",
    "fn_rate = eval_results['false_neg']/(eval_results['true_pos']+eval_results['false_neg'])\n",
    "print('fn rate in percent {}'.format(fn_rate*100))\n",
    "acc =  (eval_results['true_pos']+eval_results['true_neg'])/(eval_results['true_neg']+eval_results['false_pos']+eval_results['true_pos']+eval_results['false_neg'])\n",
    "print('accuracy {}'.format(acc))\n",
    "prec = eval_results['true_pos']/(eval_results['true_pos']+eval_results['false_pos'])\n",
    "print('precision {}'.format(prec))"
   ]
  },
  {
   "cell_type": "code",
   "execution_count": null,
   "metadata": {},
   "outputs": [],
   "source": [
    "# Save the model for further use\n",
    "mlp_classifier.export_savedmodel(os.path.join('\\\\saved_model\\\\no_drop{}_{}_{}_{}_{}'.format(layer_conf,\n",
    "                                                                       feeder.window_size,\n",
    "                                                                       feeder.subsample,\n",
    "                                                                       learning_rate,\n",
    "                                                                       rho)),\n",
    "                                 feeder.serving_input_fn, as_text=False)"
   ]
  }
 ],
 "metadata": {
  "kernelspec": {
   "display_name": "tf_night",
   "language": "python",
   "name": "tf_night"
  },
  "language_info": {
   "codemirror_mode": {
    "name": "ipython",
    "version": 3
   },
   "file_extension": ".py",
   "mimetype": "text/x-python",
   "name": "python",
   "nbconvert_exporter": "python",
   "pygments_lexer": "ipython3",
   "version": "3.6.4"
  }
 },
 "nbformat": 4,
 "nbformat_minor": 2
}
