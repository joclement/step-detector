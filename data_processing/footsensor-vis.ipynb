{
 "cells": [
  {
   "cell_type": "code",
   "execution_count": null,
   "metadata": {},
   "outputs": [],
   "source": [
    "import os\n",
    "import csv\n",
    "from collections import deque\n",
    "\n",
    "import numpy as np\n",
    "import pandas as pd\n",
    "from matplotlib import pyplot as plt\n",
    "from matplotlib import collections  as mc\n",
    "%matplotlib inline\n",
    "\n",
    "%load_ext autoreload\n",
    "%autoreload 1\n",
    "\n",
    "%aimport models\n",
    "%aimport utils"
   ]
  },
  {
   "cell_type": "code",
   "execution_count": null,
   "metadata": {},
   "outputs": [],
   "source": [
    "our_recs = sorted(utils.enumerate_recording_paths('../dataset/raw/*record*'))\n",
    "our_recs += sorted(utils.enumerate_recording_paths('../dataset/raw/benni*/*record*'))\n",
    "recs = [models.Recording(p) for p in our_recs]"
   ]
  },
  {
   "cell_type": "code",
   "execution_count": null,
   "metadata": {},
   "outputs": [],
   "source": []
  },
  {
   "cell_type": "code",
   "execution_count": null,
   "metadata": {},
   "outputs": [],
   "source": [
    "# plt.plot(r.RightFootSensor['arrival_ts'], r.RightFootSensor['event_ts'])"
   ]
  },
  {
   "cell_type": "code",
   "execution_count": null,
   "metadata": {},
   "outputs": [],
   "source": [
    "def step_gaps(r):\n",
    "    zipped_times = zip(r.RightFootSensor['arrival_ts'], r.RightFootSensor['duration'] * 1e-3)\n",
    "    right_lines = [[(arr - dur, 0), (arr, 0)] for arr, dur in zipped_times]\n",
    "\n",
    "    zipped_times = zip(r.LeftFootSensor['arrival_ts'], r.LeftFootSensor['duration'] * 1e-3)\n",
    "    left_lines = [[(arr - dur, 0), (arr, 0)] for arr, dur in zipped_times]\n",
    "\n",
    "    # combine all lines and sort by starting point\n",
    "    all_lines = sorted(right_lines + left_lines, key=lambda x: x[0][0])\n",
    "    gaps_per_rec = []\n",
    "    for i, prev_line in enumerate(all_lines):\n",
    "        prev_end = prev_line[1][0]\n",
    "        try:\n",
    "            next_start = all_lines[i + 1][0][0]\n",
    "        except IndexError:\n",
    "            break\n",
    "        if prev_end < next_start:\n",
    "            gaps_per_rec.append((prev_end, next_start))\n",
    "            \n",
    "    gaps = np.array(gaps_per_rec)\n",
    "    gap_diffs = (gaps[:, 1] - gaps[:, 0])\n",
    "    wo_sm_gap_diffs = gap_diffs[gap_diffs < 2.]\n",
    "    wo_sm_gap_diffs = wo_sm_gap_diffs[wo_sm_gap_diffs >= 0]\n",
    "    gap_diffs -= 0.75\n",
    "    w_sm_gap_diffs = gap_diffs[gap_diffs < 2.]\n",
    "    w_sm_gap_diffs = w_sm_gap_diffs[w_sm_gap_diffs >= 0]\n",
    "    return wo_sm_gap_diffs, w_sm_gap_diffs"
   ]
  },
  {
   "cell_type": "code",
   "execution_count": null,
   "metadata": {},
   "outputs": [],
   "source": [
    "from itertools import chain\n",
    "from string import ascii_uppercase\n",
    "\n",
    "all_gaps_wo = []\n",
    "all_gaps_w = []\n",
    "for r in recs:\n",
    "    wo_sm, w_sm = step_gaps(r)\n",
    "    all_gaps_wo.append(wo_sm)\n",
    "    all_gaps_w.append(w_sm)\n",
    "\n",
    "figsize = (10,4)\n",
    "plt.figure(figsize=figsize)\n",
    "plt.title('Step gap distribution for gap durations < 2 seconds; $step\\_margin=0.0$')\n",
    "_ = plt.boxplot(all_gaps_wo)\n",
    "# _ = plt.xticks(*zip(*[(i + 1, os.path.split(r.path)[-1]) for i, r in enumerate(recs)]),\n",
    "#                rotation='vertical')\n",
    "_ = plt.xticks(*zip(*[(i + 1, f'Recording {ascii_uppercase[i]} — {g.shape[0]} gaps') for i, g in enumerate(all_gaps_wo)]), rotation=-45, ha='left', va='top')\n",
    "# plt.xlabel('Recording name')\n",
    "plt.ylabel('Gap duration')\n",
    "plt.tight_layout()\n",
    "plt.savefig('figures/gap_distribution_wo.png')\n",
    "\n",
    "plt.figure(figsize=figsize)\n",
    "plt.title('Step gap distribution for gap durations < 2 seconds; $step\\_margin=0.75$')\n",
    "_ = plt.boxplot(all_gaps_w)\n",
    "# _ = plt.xticks(*zip(*[(i + 1, os.path.split(r.path)[-1]) for i, r in enumerate(recs)]),\n",
    "#                rotation='vertical')\n",
    "_ = plt.xticks(*zip(*[(i + 1, f'Recording {ascii_uppercase[i]} — {g.shape[0]} gaps') for i, g in enumerate(all_gaps_w)]), rotation=-45, ha='left', va='top')\n",
    "# plt.xlabel('Recording name')\n",
    "plt.ylabel('Gap duration')\n",
    "plt.tight_layout()\n",
    "plt.savefig('figures/gap_distribution_w.png')\n",
    "all_gaps_flat = list(chain(*all_gaps_w, *all_gaps_wo))\n",
    "print('Step gap duration mean',np.mean(all_gaps_flat))"
   ]
  },
  {
   "cell_type": "code",
   "execution_count": null,
   "metadata": {},
   "outputs": [],
   "source": [
    "def plot_step_durations(r, step_margin=0.):\n",
    "    prop_cycle = plt.rcParams['axes.prop_cycle']\n",
    "    colors = prop_cycle.by_key()['color']\n",
    "\n",
    "    fig, ax = plt.subplots(figsize=(16, 9))\n",
    "    for i, dim in enumerate(('val_x', 'val_y', 'val_z')):\n",
    "        plt.plot(r.Accelerometer['arrival_ts'],\n",
    "                 r.Accelerometer[dim], 'x', label=dim)\n",
    "    \n",
    "    zipped_times = zip(r.RightFootSensor['arrival_ts'], r.RightFootSensor['duration'] * 1e-3)\n",
    "    right_lines = [[(arr - dur - step_margin, 5), (arr, 5)] for arr, dur in zipped_times]\n",
    "\n",
    "    zipped_times = zip(r.LeftFootSensor['arrival_ts'], r.LeftFootSensor['duration'] * 1e-3)\n",
    "    left_lines = [[(arr - dur - step_margin, 5), (arr, 5)] for arr, dur in zipped_times]\n",
    "        \n",
    "    lc = mc.LineCollection(right_lines, linewidths=200, colors=colors[3], zorder=10)\n",
    "    ax.add_collection(lc)\n",
    "    lc = mc.LineCollection(left_lines, linewidths=200, colors=colors[4], zorder=10)\n",
    "    ax.add_collection(lc)\n",
    "    ax.autoscale()\n",
    "    plt.title(r.path)\n",
    "    plt.legend()\n",
    "    plt.show()\n",
    "    plt.close()"
   ]
  },
  {
   "cell_type": "code",
   "execution_count": null,
   "metadata": {},
   "outputs": [],
   "source": [
    "for r in recs:\n",
    "    plot_step_durations(r, .75)"
   ]
  },
  {
   "cell_type": "code",
   "execution_count": null,
   "metadata": {},
   "outputs": [],
   "source": [
    "%aimport data_mappers\n",
    "WC = data_mappers.Window_Creator\n",
    "recs = sorted(utils.enumerate_recording_paths('../dataset'), key=lambda r: os.path.split(r)[-1])\n",
    "source = WC(recs[-9:])"
   ]
  },
  {
   "cell_type": "code",
   "execution_count": null,
   "metadata": {},
   "outputs": [],
   "source": [
    "for i in range(0, source.labels.shape[0], 1000):\n",
    "    plt.figure(figsize=(16,4))\n",
    "    plt.plot(source.accelerometer[i, :, :], 'x', label=source.labels[i] > .5)\n",
    "    plt.legend()"
   ]
  },
  {
   "cell_type": "code",
   "execution_count": null,
   "metadata": {},
   "outputs": [],
   "source": []
  }
 ],
 "metadata": {
  "kernelspec": {
   "display_name": "tensorflow from source",
   "language": "python",
   "name": "tfbuild"
  },
  "language_info": {
   "codemirror_mode": {
    "name": "ipython",
    "version": 3
   },
   "file_extension": ".py",
   "mimetype": "text/x-python",
   "name": "python",
   "nbconvert_exporter": "python",
   "pygments_lexer": "ipython3",
   "version": "3.6.3"
  }
 },
 "nbformat": 4,
 "nbformat_minor": 2
}
