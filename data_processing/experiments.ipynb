{
 "cells": [
  {
   "cell_type": "code",
   "execution_count": null,
   "metadata": {},
   "outputs": [],
   "source": [
    "import os\n",
    "import csv\n",
    "from collections import deque\n",
    "\n",
    "import numpy as np\n",
    "import pandas as pd\n",
    "from matplotlib import pyplot as plt\n",
    "%matplotlib inline\n",
    "\n",
    "%load_ext autoreload\n",
    "%autoreload 1\n",
    "\n",
    "%aimport models\n",
    "%aimport utils"
   ]
  },
  {
   "cell_type": "code",
   "execution_count": null,
   "metadata": {},
   "outputs": [],
   "source": [
    "our_recs = sorted(utils.enumerate_recording_paths('../dataset/raw/*record*'))\n",
    "our_recs += sorted(utils.enumerate_recording_paths('../dataset/raw/benni*/*record*'))\n",
    "\n",
    "recs = [models.Recording(p) for p in our_recs]\n",
    "recs.sort(key=lambda r: os.path.split(r.path)[-1])\n",
    "rec = recs[0]"
   ]
  },
  {
   "cell_type": "code",
   "execution_count": null,
   "metadata": {},
   "outputs": [],
   "source": [
    "def plot_time_until_arrival(sensor):\n",
    "    plt.plot((sensor['event_ts'] - sensor['event_ts'][0]),\n",
    "             (sensor['arrival_ts'] - sensor['event_ts']))\n",
    "    plt.title(sensor)\n",
    "    plt.xlabel('Event Timestamp [sec]')\n",
    "    plt.ylabel('Time until arrival [sec]')\n",
    "    \n",
    "def plot_raw_data(sensor):\n",
    "    event_time = sensor['event_ts'] - sensor['event_ts'][0]\n",
    "    for label in sensor.fieldnames[2:]:\n",
    "        if label != 'accuracy':\n",
    "            plt.plot(event_time, sensor[label], label=label)\n",
    "    plt.title(sensor)\n",
    "    plt.xlabel('Event Timestamp [sec]')\n",
    "    plt.ylabel('Value')\n",
    "    plt.legend()\n",
    "    \n",
    "def sensor_statistics(sensor):\n",
    "    print('{}:'.format(sensor.name))\n",
    "    mean_dt = np.diff(sensor['event_ts']).mean()\n",
    "    print('\\tMean event dt: {} secs'.format(mean_dt))\n",
    "    print('\\tMean samples/sec: {}'.format(1/(mean_dt)))"
   ]
  },
  {
   "cell_type": "code",
   "execution_count": null,
   "metadata": {},
   "outputs": [],
   "source": [
    "plt.figure(figsize=(16,8))\n",
    "for idx, sensor in enumerate(rec.sensors):\n",
    "    plt.subplot(len(rec.sensors), 1, idx + 1)\n",
    "    plot_time_until_arrival(sensor)\n",
    "plt.tight_layout()\n",
    "\n",
    "for r in recs:\n",
    "    for idx, sensor in enumerate(r.sensors):\n",
    "        sensor_statistics(sensor)\n"
   ]
  },
  {
   "cell_type": "code",
   "execution_count": null,
   "metadata": {},
   "outputs": [],
   "source": [
    "plt.figure(figsize=(16,8))\n",
    "for idx, sensor in enumerate(rec.sensors):\n",
    "    plt.subplot(len(rec.sensors), 1, idx + 1)\n",
    "    plot_raw_data(sensor)\n",
    "plt.tight_layout()"
   ]
  },
  {
   "cell_type": "code",
   "execution_count": null,
   "metadata": {},
   "outputs": [],
   "source": [
    "for sensor in rec.sensors:\n",
    "    sensor_statistics(sensor)"
   ]
  },
  {
   "cell_type": "code",
   "execution_count": null,
   "metadata": {},
   "outputs": [],
   "source": [
    "def find_closest(A, target):\n",
    "    # thanks to https://stackoverflow.com/a/8929827\n",
    "    idx = A.searchsorted(target)\n",
    "    idx = np.clip(idx, 1, len(A)-1)\n",
    "    left = A[idx-1]\n",
    "    right = A[idx]\n",
    "    idx -= target - left < right - target\n",
    "    return idx\n",
    "\n",
    "def rotate_cross_product(vectors, quats):\n",
    "    t = np.cross(2 * -quats[:, 1:], vectors)\n",
    "    return vectors + quats[:, :1] * t + np.cross(-quats[:, 1:], t)\n",
    "\n",
    "def rotateAccelerometer(recording):\n",
    "    acc = recording.Accelerometer\n",
    "    rot = recording.RotationVector\n",
    "    \n",
    "    acc_ts = acc['event_ts']\n",
    "    rot_ts = rot['event_ts']\n",
    "    \n",
    "    if len(acc_ts) > len(rot_ts):\n",
    "        idc = find_closest(acc_ts, rot_ts)\n",
    "        acc_ts = acc_ts[idc]\n",
    "        vecs = acc['val_x', 'val_y', 'val_z'][idc]\n",
    "        quats = rot['val_x', 'val_y', 'val_z', 'val_w']\n",
    "    else:\n",
    "        idc = find_closest(rot_ts, acc_ts)\n",
    "        rot_ts = rot_ts[idc]\n",
    "        vecs = acc['val_x', 'val_y', 'val_z']\n",
    "        quats = rot['val_x', 'val_y', 'val_z', 'val_w'][idc]    \n",
    "        \n",
    "    rot_acc_event_ts = np.vstack([acc_ts, rot_ts]).mean(axis=0)\n",
    "    rot_acc_event_ts -= rot_acc_event_ts[0]\n",
    "\n",
    "    rot_cross = rotate_cross_product(vecs, quats)\n",
    "    return rot_acc_event_ts, rot_cross\n",
    "    \n",
    "\n",
    "def plot_rec_acc_vs_rotacc(rec):\n",
    "    plt.figure(figsize=(16,4.5))\n",
    "    plt.subplot(2, 1, 1)\n",
    "    plot_raw_data(rec.Accelerometer)\n",
    "\n",
    "    # plt.subplot(4, 1, 2)\n",
    "    # plot_raw_data(rec.RotationVector)\n",
    "\n",
    "    rot_ts, rot_cross = rotateAccelerometer(rec)\n",
    "    plt.subplot(2, 1, 2)\n",
    "    plt.plot(rot_ts, rot_cross)\n",
    "    plt.legend(['val_x', 'val_y', 'val_z'])\n",
    "    plt.title('<Sensor \"RotatedAccelerometer\">')\n",
    "\n",
    "    plt.tight_layout()"
   ]
  },
  {
   "cell_type": "code",
   "execution_count": null,
   "metadata": {},
   "outputs": [],
   "source": [
    "import matplotlib\n",
    "matplotlib.rc('font', size=18)\n",
    "for r in recs[-2:]:\n",
    "    plot_rec_acc_vs_rotacc(r)"
   ]
  },
  {
   "cell_type": "code",
   "execution_count": null,
   "metadata": {},
   "outputs": [],
   "source": [
    "def plot_time_relation(*recordings):\n",
    "    for i, r in enumerate(recordings):\n",
    "        ts_x = r.Accelerometer['event_ts']\n",
    "        ts_y = i * np.ones(len(ts_x))\n",
    "        plt.plot(ts_x, ts_y)\n",
    "        \n",
    "plot_time_relation(*recs[-2:-1])"
   ]
  },
  {
   "cell_type": "code",
   "execution_count": null,
   "metadata": {},
   "outputs": [],
   "source": [
    "rec_ps = [p for p in utils.enumerate_recording_paths('../dataset')]\n",
    "rec_ps.sort()\n",
    "rec_ps = rec_ps[-2:]\n",
    "for r in rec_ps:\n",
    "    D = np.load(os.path.join(r, 'recording.npz'))\n",
    "    M = D['merged']\n",
    "    plt.figure(figsize=(16,8))\n",
    "    for i in range(2, M.shape[1]):\n",
    "        plt.plot(M[:, 0], M[:, i])\n",
    "    "
   ]
  },
  {
   "cell_type": "code",
   "execution_count": null,
   "metadata": {},
   "outputs": [],
   "source": [
    "def plot_rot_acc(df):\n",
    "    keys = 'Rotated_Accelerometer_val_x', 'Rotated_Accelerometer_val_y', 'Rotated_Accelerometer_val_z'\n",
    "    event_ts = df.as_matrix(['event_ts'])\n",
    "    event_ts -= event_ts[0]\n",
    "    for k in keys:\n",
    "        plt.plot(event_ts, df[k], label=k)\n",
    "    plt.xlabel('Event Timestamp [sec]')\n",
    "    plt.ylabel('Value')\n",
    "    plt.legend()\n",
    "\n",
    "recs = sorted(utils.enumerate_recording_paths('../dataset'))\n",
    "for r in recs[-2:]:\n",
    "    file_p = os.path.join(r, 'merged.msg')\n",
    "    df = pd.read_msgpack(file_p)\n",
    "    plot_rot_acc(df)"
   ]
  },
  {
   "cell_type": "code",
   "execution_count": null,
   "metadata": {},
   "outputs": [],
   "source": []
  }
 ],
 "metadata": {
  "kernelspec": {
   "display_name": "tfnightly",
   "language": "python",
   "name": "tfnightly"
  },
  "language_info": {
   "codemirror_mode": {
    "name": "ipython",
    "version": 3
   },
   "file_extension": ".py",
   "mimetype": "text/x-python",
   "name": "python",
   "nbconvert_exporter": "python",
   "pygments_lexer": "ipython3",
   "version": "3.6.3"
  }
 },
 "nbformat": 4,
 "nbformat_minor": 2
}
