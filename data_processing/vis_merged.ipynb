{
 "cells": [
  {
   "cell_type": "code",
   "execution_count": null,
   "metadata": {},
   "outputs": [],
   "source": [
    "import os\n",
    "import numpy as np\n",
    "import pandas as pd\n",
    "from matplotlib import pyplot as plt\n",
    "%matplotlib inline\n",
    "\n",
    "import utils\n",
    "import models\n",
    "import data_mappers"
   ]
  },
  {
   "cell_type": "code",
   "execution_count": null,
   "metadata": {},
   "outputs": [],
   "source": [
    "import importlib\n",
    "importlib.reload(utils)\n",
    "importlib.reload(models)\n",
    "importlib.reload(data_mappers)"
   ]
  },
  {
   "cell_type": "code",
   "execution_count": null,
   "metadata": {},
   "outputs": [],
   "source": [
    "ours = sorted(utils.enumerate_recording_paths('../dataset/raw/*record*'))\n",
    "ours += sorted(utils.enumerate_recording_paths('../dataset/raw/benni*/*record*'))\n",
    "old = sorted(utils.enumerate_recording_paths('../dataset/raw/old/*record*'))\n",
    "recs = sorted(utils.enumerate_recording_paths('/Users/pabloprietz/Dropbox/DCAITI_sharedfolder/Recordings/Kevin/rec*'))"
   ]
  },
  {
   "cell_type": "code",
   "execution_count": null,
   "metadata": {},
   "outputs": [],
   "source": [
    "old"
   ]
  },
  {
   "cell_type": "code",
   "execution_count": null,
   "metadata": {},
   "outputs": [],
   "source": []
  },
  {
   "cell_type": "code",
   "execution_count": null,
   "metadata": {},
   "outputs": [],
   "source": [
    "def plot_rec(r):\n",
    "    f = pd.read_msgpack(os.path.join(r, 'merged.msg'))\n",
    "    fig, ax = plt.subplots(figsize=(16, 4))\n",
    "    for i, dim in enumerate((#'Accelerometer_val_x',\n",
    "                             #'Accelerometer_val_y',\n",
    "                             #'Accelerometer_val_z',\n",
    "                             'Normalized_Accelerometer_val_x',\n",
    "                             'Normalized_Accelerometer_val_y',\n",
    "                             'Normalized_Accelerometer_val_z')):\n",
    "#         plt.plot(f['event_ts'], f[dim], 'x', label=dim)\n",
    "        plt.plot(f[dim], 'x', label=dim)\n",
    "\n",
    "#     print((f['event_ts'].iloc[-1] - f['event_ts'].iloc[0]) / f['event_ts'].shape[0])\n",
    "\n",
    "    plt.plot(f['label'], '|', c='r', label='label')\n",
    "#     plt.plot(f['event_ts'], f['label'], '|', c='r', label='label')\n",
    "    plt.title(r)\n",
    "    plt.legend()\n",
    "    \n",
    "def calc_fps(r):\n",
    "    f = pd.read_msgpack(os.path.join(r, 'merged.msg'))\n",
    "    return f['event_ts'].shape[0] / (f['event_ts'].iloc[-1] - f['event_ts'].iloc[0])\n",
    "\n",
    "def calc_dur(r):\n",
    "    f = pd.read_msgpack(os.path.join(r, 'merged.msg'))\n",
    "    return f['event_ts'].iloc[-1] - f['event_ts'].iloc[0]"
   ]
  },
  {
   "cell_type": "code",
   "execution_count": null,
   "metadata": {},
   "outputs": [],
   "source": [
    "dur_ours = 0\n",
    "for r in ours:\n",
    "    dur_ours += calc_dur(r)\n",
    "print(f'Recording length: {dur_ours/60:.2f}mins')"
   ]
  },
  {
   "cell_type": "code",
   "execution_count": null,
   "metadata": {},
   "outputs": [],
   "source": [
    "for r in ours:\n",
    "    plot_rec(r)"
   ]
  },
  {
   "cell_type": "code",
   "execution_count": null,
   "metadata": {},
   "outputs": [],
   "source": [
    "wc = data_mappers.Window_Creator(recs)"
   ]
  },
  {
   "cell_type": "code",
   "execution_count": null,
   "metadata": {},
   "outputs": [],
   "source": [
    "plt.hist(wc.labels[wc.training_idc], bins=2)\n",
    "plt.hist(wc.labels[wc.testing_idc], bins=2)\n",
    "plt.ylabel('Number of Windows')\n",
    "plt.xticks([.25, .75], ['not walking', 'walking'])"
   ]
  },
  {
   "cell_type": "code",
   "execution_count": null,
   "metadata": {},
   "outputs": [],
   "source": [
    "R = models.Recording(ours[0])"
   ]
  },
  {
   "cell_type": "code",
   "execution_count": null,
   "metadata": {},
   "outputs": [],
   "source": [
    "import matplotlib\n",
    "matplotlib.rcParams.update({'font.size': 14})\n",
    "\n",
    "FIGSIZE = (16, 2)\n",
    "\n",
    "R.merge()\n",
    "R.rotate_accelerometer()\n",
    "R.normalize_accelerometer(8.)"
   ]
  },
  {
   "cell_type": "code",
   "execution_count": null,
   "metadata": {},
   "outputs": [],
   "source": [
    "def make_plt(dims, title, xlabel, ylabel):\n",
    "    fig, ax = plt.subplots(figsize=FIGSIZE)\n",
    "    for i, dim in enumerate(dims):\n",
    "        plt.plot(R.merged['event_ts'] - R.merged['event_ts'][0], R.merged[dim], 'x', label=dim[-1])\n",
    "\n",
    "    plt.title(title)\n",
    "    plt.xlabel(xlabel)\n",
    "    plt.ylabel(ylabel)\n",
    "    plt.legend()\n",
    "\n",
    "make_plt(('Accelerometer_val_x', 'Accelerometer_val_y', 'Accelerometer_val_z'),\n",
    "         'Raw accelerometer', 'Arrival time [sec]', 'Acceleration [$m/s^2$]')\n",
    "\n",
    "make_plt(('Rotated_Accelerometer_val_x', 'Rotated_Accelerometer_val_y', 'Rotated_Accelerometer_val_z'),\n",
    "         'Rotated accelerometer', 'Arrival time [sec]', 'Acceleration [$m/s^2$]')\n",
    "    \n",
    "fig, ax = plt.subplots(figsize=FIGSIZE)\n",
    "for i, dim in enumerate(('Rotated_Accelerometer_val_x',\n",
    "                         'Rotated_Accelerometer_val_y')):\n",
    "    plt.plot(R.merged['event_ts'] - R.merged['event_ts'][0], R.merged[dim], 'x', label=dim[-1])\n",
    "plt.plot(R.merged['event_ts'] - R.merged['event_ts'][0], R.merged['Rotated_Accelerometer_val_z'] - 9.8, 'x', label=dim[-1])\n",
    "plt.title('Rotated accelerometer without gravitation')\n",
    "plt.xlabel('Arrival time [sec]')\n",
    "plt.ylabel('Acceleration [$m/s^2$]')\n",
    "plt.legend()\n",
    "    \n",
    "make_plt(('Normalized_Accelerometer_val_x', 'Normalized_Accelerometer_val_y', 'Normalized_Accelerometer_val_z'),\n",
    "         'Normalized accelerometer', 'Arrival time [sec]', 'Normalized acc. [$m/8s^2$]')"
   ]
  },
  {
   "cell_type": "code",
   "execution_count": null,
   "metadata": {},
   "outputs": [],
   "source": [
    "from matplotlib import collections  as mc\n",
    "\n",
    "def plot_feet(r):\n",
    "    fig, ax = plt.subplots(figsize=FIGSIZE)\n",
    "    for i, dim in enumerate(('val_x', 'val_y', 'val_z')):\n",
    "        plt.plot(r.Accelerometer['arrival_ts'],\n",
    "                 r.Accelerometer[dim], 'x', c=(1-(i + 2)/6, 1-(i + 2)/6, 1-(i + 2)/6, .2))\n",
    "    \n",
    "    zipped_times = zip(r.RightFootSensor['arrival_ts'], r.RightFootSensor['duration'] * 1e-3)\n",
    "    right_lines = [[(arr - dur, 0), (arr, 0)] for arr, dur in zipped_times]\n",
    "\n",
    "    zipped_times = zip(r.LeftFootSensor['arrival_ts'], r.LeftFootSensor['duration'] * 1e-3)\n",
    "    left_lines = [[(arr - dur, 0), (arr, 0)] for arr, dur in zipped_times]\n",
    "\n",
    "    lc = mc.LineCollection(right_lines, linewidths=5, colors='red', zorder=10, label='Right')\n",
    "    ax.add_collection(lc)\n",
    "    lc = mc.LineCollection(left_lines, linewidths=5, colors='blue', zorder=10, label='Left')\n",
    "    ax.add_collection(lc)\n",
    "    ax.autoscale()\n",
    "    plt.title('Raw foot sensors')\n",
    "    plt.xlabel('Arrival timestamps')\n",
    "    plt.ylabel('Acceleration [$m/s^2$]')\n",
    "    plt.legend()\n",
    "    \n",
    "plot_feet(R)\n",
    "\n",
    "plt.figure(figsize=FIGSIZE)\n",
    "dims = ('Normalized_Accelerometer_val_x', 'Normalized_Accelerometer_val_y', 'Normalized_Accelerometer_val_z')\n",
    "title, xlabel, ylabel = 'Merged data', 'Arrival time [sec]', 'Normalized acc. [$m/8s^2$]'\n",
    "for i, dim in enumerate(dims):\n",
    "    plt.plot(R.merged['event_ts'] - R.merged['event_ts'][0], R.merged[dim], 'x', label='')\n",
    "\n",
    "plt.plot(R.merged['event_ts'] - R.merged['event_ts'][0], R.merged['label'], '|', c='r', label='Labels')\n",
    "    \n",
    "plt.title(title)\n",
    "plt.xlabel(xlabel)\n",
    "plt.ylabel(ylabel)\n",
    "plt.legend()"
   ]
  },
  {
   "cell_type": "code",
   "execution_count": null,
   "metadata": {},
   "outputs": [],
   "source": [
    "print('fps,duration[sec]')\n",
    "for r in ours:\n",
    "    print(f'{calc_fps(r)},{calc_dur(r)}')"
   ]
  },
  {
   "cell_type": "code",
   "execution_count": null,
   "metadata": {},
   "outputs": [],
   "source": []
  }
 ],
 "metadata": {
  "kernelspec": {
   "display_name": "tfnightly",
   "language": "python",
   "name": "tfnightly"
  },
  "language_info": {
   "codemirror_mode": {
    "name": "ipython",
    "version": 3
   },
   "file_extension": ".py",
   "mimetype": "text/x-python",
   "name": "python",
   "nbconvert_exporter": "python",
   "pygments_lexer": "ipython3",
   "version": "3.6.3"
  }
 },
 "nbformat": 4,
 "nbformat_minor": 2
}
